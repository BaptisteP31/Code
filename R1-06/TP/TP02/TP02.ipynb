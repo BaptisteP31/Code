{
 "cells": [
  {
   "cell_type": "markdown",
   "metadata": {},
   "source": [
    "# TP02"
   ]
  },
  {
   "cell_type": "markdown",
   "metadata": {},
   "source": [
    "#### Programme 1:"
   ]
  },
  {
   "cell_type": "code",
   "execution_count": 1,
   "metadata": {
    "vscode": {
     "languageId": "python"
    }
   },
   "outputs": [
    {
     "name": "stdout",
     "output_type": "stream",
     "text": [
      "1.60000000000000\n"
     ]
    }
   ],
   "source": [
    "n = int(input('Valeur de n?> '))\n",
    "epaisseur = 0.2\n",
    "for i in range(n):\n",
    "    epaisseur = epaisseur*2\n",
    "print(epaisseur)"
   ]
  },
  {
   "cell_type": "markdown",
   "metadata": {},
   "source": [
    "L'épaisseur est de 0.2*2^n\n",
    "\n",
    "--- "
   ]
  },
  {
   "cell_type": "markdown",
   "metadata": {},
   "source": [
    "### Programme 2:"
   ]
  },
  {
   "cell_type": "code",
   "execution_count": 3,
   "metadata": {
    "vscode": {
     "languageId": "python"
    }
   },
   "outputs": [
    {
     "name": "stdout",
     "output_type": "stream",
     "text": [
      "11\n"
     ]
    }
   ],
   "source": [
    "h = float(input('Quelle hauteur ?'))\n",
    "n = 0\n",
    "epaisseur = 0.2\n",
    "while epaisseur < h:\n",
    "    epaisseur = epaisseur*2\n",
    "    n = n+1\n",
    "print(n)"
   ]
  },
  {
   "cell_type": "markdown",
   "metadata": {},
   "source": [
    "Il faut 11 pliages pour dépasser la hauteur de la tour effeil\n",
    "\n",
    "---"
   ]
  },
  {
   "cell_type": "markdown",
   "metadata": {},
   "source": [
    "### 5 - Programme 2 modifié"
   ]
  },
  {
   "cell_type": "code",
   "execution_count": 6,
   "metadata": {
    "vscode": {
     "languageId": "python"
    }
   },
   "outputs": [
    {
     "name": "stdout",
     "output_type": "stream",
     "text": [
      "La hauteur doit être positive\n",
      "0\n"
     ]
    }
   ],
   "source": [
    "h = float(input('Quelle hauteur ?> '))\n",
    "n = 0\n",
    "epaisseur = 0.2\n",
    "if (h <= 0):\n",
    "    print('La hauteur doit être positive')\n",
    "else :\n",
    "    while epaisseur < h:\n",
    "        epaisseur = epaisseur*2\n",
    "        n = n+1\n",
    "print(n)"
   ]
  },
  {
   "cell_type": "markdown",
   "metadata": {},
   "source": [
    "---"
   ]
  },
  {
   "cell_type": "markdown",
   "metadata": {},
   "source": [
    "### 1.1 Divination"
   ]
  },
  {
   "cell_type": "code",
   "execution_count": null,
   "metadata": {
    "vscode": {
     "languageId": "python"
    }
   },
   "outputs": [],
   "source": [
    "n = randint(1,10)\n",
    "i=0\n",
    "while True:\n",
    "    nu = int(input('Nombre ?> '))\n",
    "    if((nu <= 10) and (nu >= 1)):    \n",
    "        if(nu == n):\n",
    "            print('Vous avez trouvé!')\n",
    "            break\n",
    "        elif(nu > n):\n",
    "            print('Trop grand!')\n",
    "        elif(nu < n):\n",
    "            print('Trop petit!')\n",
    "        i = i+1\n",
    "    else :\n",
    "        print(\"Le nombre saisi n'est pas entre 1 et 10\")\n",
    "    if(i >= 3):\n",
    "        print(\"Perdu!\")\n",
    "        break"
   ]
  },
  {
   "cell_type": "markdown",
   "metadata": {},
   "source": [
    "---"
   ]
  },
  {
   "cell_type": "markdown",
   "metadata": {},
   "source": [
    "### 1.2 Trois mais pas cinq"
   ]
  },
  {
   "cell_type": "code",
   "execution_count": null,
   "metadata": {
    "vscode": {
     "languageId": "python"
    }
   },
   "outputs": [],
   "source": [
    "n = int(input(\"N?> \"))\n",
    "\n",
    "for i in range(1, n+1):\n",
    "    dx = i/3\n",
    "    dy = i/5\n",
    "    if(dx%3 == 0 and dy%5 != 0):\n",
    "        print(i)"
   ]
  }
 ],
 "metadata": {
  "kernelspec": {
   "display_name": "SageMath 9.5",
   "language": "sage",
   "name": "sagemath"
  },
  "language_info": {
   "codemirror_mode": {
    "name": "ipython",
    "version": 3
   },
   "file_extension": ".py",
   "mimetype": "text/x-python",
   "name": "sage",
   "nbconvert_exporter": "python",
   "pygments_lexer": "ipython3",
   "version": "3.10.6"
  },
  "orig_nbformat": 4,
  "vscode": {
   "interpreter": {
    "hash": "916dbcbb3f70747c44a77c7bcd40155683ae19c65e1c03b4aa3499c5328201f1"
   }
  }
 },
 "nbformat": 4,
 "nbformat_minor": 2
}
