{
 "cells": [
  {
   "cell_type": "markdown",
   "metadata": {},
   "source": [
    "# TP05 Suites Aliquotes\n",
    "---"
   ]
  },
  {
   "cell_type": "code",
   "execution_count": 62,
   "metadata": {},
   "outputs": [],
   "source": [
    "def partiealiquote(n):\n",
    "    L = []\n",
    "    for i in range(1, n-1):\n",
    "        if n % i == 0:\n",
    "            L.append(i)\n",
    "    return L\n",
    "\n",
    "\n",
    "def suite_aliquote2(n):\n",
    "    F = factor(n)\n",
    "    prod = 1\n",
    "    for i in range(len(F)):\n",
    "        prod *= ((F[i][0])**(F[i][1]+1)-1)/((F[i][0])-1)\n",
    "    return prod-n\n"
   ]
  },
  {
   "cell_type": "code",
   "execution_count": 49,
   "metadata": {},
   "outputs": [
    {
     "name": "stdout",
     "output_type": "stream",
     "text": [
      "[3, 3, 3, 5, 5]\n"
     ]
    }
   ],
   "source": [
    "F = factor(45)\n",
    "\n",
    "L = []\n",
    "index = 0\n",
    "for i in F:\n",
    "    for j in range(F[index][1]+1):\n",
    "        L.append(F[index][0])\n",
    "    index += 1\n",
    "\n",
    "print(L)\n"
   ]
  },
  {
   "cell_type": "code",
   "execution_count": 63,
   "metadata": {},
   "outputs": [
    {
     "name": "stdout",
     "output_type": "stream",
     "text": [
      "15\n"
     ]
    }
   ],
   "source": [
    "print(suite_aliquote2(16))"
   ]
  },
  {
   "cell_type": "markdown",
   "metadata": {},
   "source": [
    "---\n",
    "### Exercice 3"
   ]
  },
  {
   "cell_type": "code",
   "execution_count": null,
   "metadata": {},
   "outputs": [],
   "source": [
    "def analyse_suite(n, k):\n",
    "    s = "
   ]
  }
 ],
 "metadata": {
  "kernelspec": {
   "display_name": "SageMath 9.5",
   "language": "sage",
   "name": "sagemath"
  },
  "language_info": {
   "codemirror_mode": {
    "name": "ipython",
    "version": 3
   },
   "file_extension": ".py",
   "mimetype": "text/x-python",
   "name": "python",
   "nbconvert_exporter": "python",
   "pygments_lexer": "ipython3",
   "version": "3.10.6"
  },
  "orig_nbformat": 4,
  "vscode": {
   "interpreter": {
    "hash": "916dbcbb3f70747c44a77c7bcd40155683ae19c65e1c03b4aa3499c5328201f1"
   }
  }
 },
 "nbformat": 4,
 "nbformat_minor": 2
}
